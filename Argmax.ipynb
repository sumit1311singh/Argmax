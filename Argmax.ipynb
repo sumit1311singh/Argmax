{
  "nbformat": 4,
  "nbformat_minor": 0,
  "metadata": {
    "colab": {
      "name": "Argmax.ipynb",
      "provenance": [],
      "authorship_tag": "ABX9TyPT8TUUV2A833MQgQQIWPGw",
      "include_colab_link": true
    },
    "kernelspec": {
      "name": "python3",
      "display_name": "Python 3"
    },
    "language_info": {
      "name": "python"
    }
  },
  "cells": [
    {
      "cell_type": "markdown",
      "metadata": {
        "id": "view-in-github",
        "colab_type": "text"
      },
      "source": [
        "<a href=\"https://colab.research.google.com/github/sumit1311singh/Argmax/blob/main/Argmax.ipynb\" target=\"_parent\"><img src=\"https://colab.research.google.com/assets/colab-badge.svg\" alt=\"Open In Colab\"/></a>"
      ]
    },
    {
      "cell_type": "code",
      "metadata": {
        "colab": {
          "base_uri": "https://localhost:8080/"
        },
        "id": "rMX8tNJ6alc3",
        "outputId": "dab7fac9-7894-4621-d34c-579e86a9f8d1"
      },
      "source": [
        "from numpy import argmax\n",
        "\n",
        "vect = [0.2, 0.3, 0.4, 0.1]\n",
        "\n",
        "ans = argmax(vect)\n",
        "print('arg max of %s: %d' % (vect, ans))"
      ],
      "execution_count": 1,
      "outputs": [
        {
          "output_type": "stream",
          "text": [
            "arg max of [0.2, 0.3, 0.4, 0.1]: 2\n"
          ],
          "name": "stdout"
        }
      ]
    },
    {
      "cell_type": "code",
      "metadata": {
        "colab": {
          "base_uri": "https://localhost:8080/"
        },
        "id": "GnUmEwc7an0v",
        "outputId": "b1050601-cf6f-44c5-e225-7be9f4594d95"
      },
      "source": [
        "def argmax(vect):\n",
        "  index, val = 0, vect[0]\n",
        "  for i,v in enumerate(vect):\n",
        "    if v > val:\n",
        "      index, val = i,v\n",
        "  return index\n",
        " \n",
        "\n",
        "vect = [0.2, 0.3, 0.4, 0.1]\n",
        "\n",
        "ans = argmax(vect)\n",
        "print('arg max of %s: %d' % (vect, ans))"
      ],
      "execution_count": 2,
      "outputs": [
        {
          "output_type": "stream",
          "text": [
            "arg max of [0.2, 0.3, 0.4, 0.1]: 2\n"
          ],
          "name": "stdout"
        }
      ]
    },
    {
      "cell_type": "code",
      "metadata": {
        "colab": {
          "base_uri": "https://localhost:8080/"
        },
        "id": "rPcp-9H9apn-",
        "outputId": "0da9b69d-2291-404e-96d4-60e68e7231a6"
      },
      "source": [
        "from numpy import argmax\n",
        "from numpy import asarray\n",
        "\n",
        "prob = asarray([[0.4, 0.2, 0.4], [0.0, 1.0, 0.0], [0.7, 0.2, 0.1], [0.3, 0.3, 0.4]])\n",
        "print(prob.shape)\n",
        "\n",
        "ans = argmax(prob, axis=1)\n",
        "print(ans)"
      ],
      "execution_count": 3,
      "outputs": [
        {
          "output_type": "stream",
          "text": [
            "(4, 3)\n",
            "[0 1 0 2]\n"
          ],
          "name": "stdout"
        }
      ]
    }
  ]
}